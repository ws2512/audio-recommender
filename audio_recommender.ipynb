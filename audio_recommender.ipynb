{
 "cells": [
  {
   "cell_type": "markdown",
   "metadata": {},
   "source": [
    "## Audio Recommender"
   ]
  },
  {
   "cell_type": "markdown",
   "metadata": {},
   "source": [
    "### Wenting Su, ws2512\n",
    "### Kewei Liu, kl2987 \n",
    "### Tianhui Shen, ts3088"
   ]
  },
  {
   "cell_type": "code",
   "execution_count": 1,
   "metadata": {},
   "outputs": [],
   "source": [
    "from pyspark import SparkContext\n",
    "from pyspark.context import SparkConf\n",
    "\n",
    "conf = SparkConf().setAppName(\"App\")\n",
    "conf = (conf.setMaster('local[*]')\n",
    "        .set('spark.executor.memory', '4G')\n",
    "        .set('spark.driver.memory', '45G')\n",
    "        .set('spark.driver.maxResultSize', '10G'))\n",
    "sc = SparkContext(conf=conf)"
   ]
  },
  {
   "cell_type": "code",
   "execution_count": 2,
   "metadata": {},
   "outputs": [
    {
     "data": {
      "text/html": [
       "\n",
       "        <div>\n",
       "            <p><b>SparkContext</b></p>\n",
       "\n",
       "            <p><a href=\"http://192.168.0.7:4040\">Spark UI</a></p>\n",
       "\n",
       "            <dl>\n",
       "              <dt>Version</dt>\n",
       "                <dd><code>v2.3.0</code></dd>\n",
       "              <dt>Master</dt>\n",
       "                <dd><code>local[*]</code></dd>\n",
       "              <dt>AppName</dt>\n",
       "                <dd><code>App</code></dd>\n",
       "            </dl>\n",
       "        </div>\n",
       "        "
      ],
      "text/plain": [
       "<SparkContext master=local[*] appName=App>"
      ]
     },
     "execution_count": 2,
     "metadata": {},
     "output_type": "execute_result"
    }
   ],
   "source": [
    "sc"
   ]
  },
  {
   "cell_type": "markdown",
   "metadata": {},
   "source": [
    "Load Data"
   ]
  },
  {
   "cell_type": "code",
   "execution_count": 3,
   "metadata": {},
   "outputs": [],
   "source": [
    "rawUserArtistData = sc.textFile(\"audio_data/user_artist_data.txt\")"
   ]
  },
  {
   "cell_type": "code",
   "execution_count": 4,
   "metadata": {},
   "outputs": [
    {
     "data": {
      "text/plain": [
       "(count: 24296858, mean: 1947573.26535, stdev: 496000.5449748051, max: 2443548.0, min: 90.0)"
      ]
     },
     "execution_count": 4,
     "metadata": {},
     "output_type": "execute_result"
    }
   ],
   "source": [
    "rawUserArtistData.map(lambda l: float(l.split(' ')[0])).stats()"
   ]
  },
  {
   "cell_type": "code",
   "execution_count": 5,
   "metadata": {},
   "outputs": [
    {
     "data": {
      "text/plain": [
       "(count: 24296858, mean: 1718704.09376, stdev: 2539389.0401707785, max: 10794401.0, min: 1.0)"
      ]
     },
     "execution_count": 5,
     "metadata": {},
     "output_type": "execute_result"
    }
   ],
   "source": [
    "rawUserArtistData.map(lambda l: float(l.split(' ')[1])).stats()"
   ]
  },
  {
   "cell_type": "markdown",
   "metadata": {},
   "source": [
    "The maximum user and artist IDs are 2443548 and 10794401, respectively. \n",
    "Both are smaller than 2147483647. Thus, no additional transformation will be necessary to use these IDs."
   ]
  },
  {
   "cell_type": "code",
   "execution_count": 6,
   "metadata": {},
   "outputs": [],
   "source": [
    "rawArtistData = sc.textFile(\"audio_data/artist_data.txt\") "
   ]
  },
  {
   "cell_type": "code",
   "execution_count": 7,
   "metadata": {},
   "outputs": [],
   "source": [
    "def artistID (line):\n",
    "    splits = line.split('\\t', 1)\n",
    "    if len(splits) != 2:\n",
    "        return []\n",
    "    else:\n",
    "        try:\n",
    "            return [(int(splits[0]), splits[1])]\n",
    "        except:\n",
    "            return []\n",
    "\n",
    "artistByID = dict(rawArtistData.flatMap(lambda l: artistID(l)).collect())"
   ]
  },
  {
   "cell_type": "code",
   "execution_count": 8,
   "metadata": {},
   "outputs": [],
   "source": [
    "rawArtistAlias = sc.textFile(\"audio_data/artist_alias.txt\") "
   ]
  },
  {
   "cell_type": "code",
   "execution_count": 9,
   "metadata": {},
   "outputs": [],
   "source": [
    "def artistalias (line):\n",
    "    splits = line.split('\\t')\n",
    "    if not splits[0]:\n",
    "        return []\n",
    "    else:\n",
    "        return [(int(splits[0]), int(splits[1]))]\n",
    "\n",
    "artistAlias = rawArtistAlias.flatMap(lambda l: artistalias(l)).collectAsMap() "
   ]
  },
  {
   "cell_type": "code",
   "execution_count": 10,
   "metadata": {},
   "outputs": [
    {
     "data": {
      "text/plain": [
       "u'Aerosmith (unplugged)'"
      ]
     },
     "execution_count": 10,
     "metadata": {},
     "output_type": "execute_result"
    }
   ],
   "source": [
    "artistByID[6803336]"
   ]
  },
  {
   "cell_type": "code",
   "execution_count": 11,
   "metadata": {},
   "outputs": [
    {
     "data": {
      "text/plain": [
       "u'Aerosmith'"
      ]
     },
     "execution_count": 11,
     "metadata": {},
     "output_type": "execute_result"
    }
   ],
   "source": [
    "artistByID[1000010]"
   ]
  },
  {
   "cell_type": "markdown",
   "metadata": {},
   "source": [
    "This entry evidently maps “Aerosmith (unplugged)” to “Aerosmith.”"
   ]
  },
  {
   "cell_type": "markdown",
   "metadata": {},
   "source": [
    "Build model"
   ]
  },
  {
   "cell_type": "code",
   "execution_count": 12,
   "metadata": {},
   "outputs": [],
   "source": [
    "from pyspark.mllib.recommendation import ALS, Rating\n",
    "bArtistAlias = sc.broadcast(artistAlias)"
   ]
  },
  {
   "cell_type": "code",
   "execution_count": 13,
   "metadata": {},
   "outputs": [],
   "source": [
    "def processtrain (line):\n",
    "    userID, artistID, count = map(lambda l: int(l), line.split(' '))\n",
    "    finalArtistID = bArtistAlias.value.get(artistID)\n",
    "    if not finalArtistID:\n",
    "        finalArtistID = artistID\n",
    "    return Rating(userID, finalArtistID, count)\n",
    "\n",
    "trainData = rawUserArtistData.map(lambda l: processtrain(l)).cache()"
   ]
  },
  {
   "cell_type": "code",
   "execution_count": 14,
   "metadata": {},
   "outputs": [
    {
     "data": {
      "text/plain": [
       "[Rating(user=1000002, product=1, rating=55.0),\n",
       " Rating(user=1000002, product=1000006, rating=33.0),\n",
       " Rating(user=1000002, product=1000007, rating=8.0),\n",
       " Rating(user=1000002, product=1000009, rating=144.0),\n",
       " Rating(user=1000002, product=1000010, rating=314.0)]"
      ]
     },
     "execution_count": 14,
     "metadata": {},
     "output_type": "execute_result"
    }
   ],
   "source": [
    "trainData.take(5)"
   ]
  },
  {
   "cell_type": "code",
   "execution_count": 15,
   "metadata": {},
   "outputs": [],
   "source": [
    "model = ALS.trainImplicit(trainData, 10, 5, 0.01) # python model has a param less than scala model"
   ]
  },
  {
   "cell_type": "code",
   "execution_count": 16,
   "metadata": {},
   "outputs": [],
   "source": [
    "userFeatures = model.userFeatures()"
   ]
  },
  {
   "cell_type": "code",
   "execution_count": 17,
   "metadata": {},
   "outputs": [
    {
     "data": {
      "text/plain": [
       "[(90,\n",
       "  array('d', [-0.02411564067006111, 0.03970932960510254, -0.004237746819853783, -0.06278897821903229, 0.07268514484167099, -0.001797014963813126, -0.0375199131667614, -0.04872237890958786, -0.057996898889541626, -0.050966233015060425])),\n",
       " (120,\n",
       "  array('d', [-0.04114802926778793, -0.016246354207396507, -0.028688466176390648, 0.024308418855071068, -0.014551378786563873, 0.027085544541478157, -0.0024207697715610266, -0.018930630758404732, -0.014201169833540916, 0.03605864197015762])),\n",
       " (384,\n",
       "  array('d', [-0.1724633276462555, -0.20634429156780243, 0.012565928511321545, -0.10770470649003983, 0.22335156798362732, 0.417214572429657, -0.08936502039432526, 0.2841363251209259, -0.27385929226875305, -0.014617789536714554])),\n",
       " (828,\n",
       "  array('d', [0.00902756117284298, 0.01565699465572834, -0.013599229976534843, 0.00865993183106184, 0.005420266184955835, 0.025692369788885117, -0.001091812620870769, -0.006139861419796944, -0.009116570465266705, 0.01676923781633377])),\n",
       " (1014,\n",
       "  array('d', [0.03351414203643799, -0.16358564794063568, -0.19431261718273163, -0.012380935251712799, 0.3905027508735657, -0.02992378920316696, 0.08036885410547256, -0.08406365662813187, -0.03500477597117424, -0.07618950307369232]))]"
      ]
     },
     "execution_count": 17,
     "metadata": {},
     "output_type": "execute_result"
    }
   ],
   "source": [
    "userFeatures.take(5)"
   ]
  },
  {
   "cell_type": "code",
   "execution_count": 18,
   "metadata": {},
   "outputs": [],
   "source": [
    "bartistByID = sc.broadcast(artistByID)\n",
    "ArtistsForUser = trainData.filter(lambda r: r.user == 2093760).map(lambda r: bartistByID.value.get(r.product)).collect()"
   ]
  },
  {
   "cell_type": "code",
   "execution_count": 19,
   "metadata": {},
   "outputs": [
    {
     "name": "stdout",
     "output_type": "stream",
     "text": [
      "David Gray\n",
      "The Saw Doctors\n",
      "Blackalicious\n",
      "Jurassic 5\n",
      "Xzibit\n"
     ]
    }
   ],
   "source": [
    "for artist in ArtistsForUser:\n",
    "    print artist"
   ]
  },
  {
   "cell_type": "code",
   "execution_count": 20,
   "metadata": {},
   "outputs": [],
   "source": [
    "recommendations = model.recommendProducts(2093760, 5)"
   ]
  },
  {
   "cell_type": "code",
   "execution_count": 21,
   "metadata": {},
   "outputs": [
    {
     "name": "stdout",
     "output_type": "stream",
     "text": [
      "Rating(user=2093760, product=1007614, rating=0.034918000860505456)\n",
      "Rating(user=2093760, product=4605, rating=0.03335815401725925)\n",
      "Rating(user=2093760, product=2814, rating=0.032287476799391535)\n",
      "Rating(user=2093760, product=1037970, rating=0.03156481228181917)\n",
      "Rating(user=2093760, product=829, rating=0.031449306009725606)\n"
     ]
    }
   ],
   "source": [
    "for recom in recommendations:\n",
    "    print recom"
   ]
  },
  {
   "cell_type": "markdown",
   "metadata": {},
   "source": [
    "Find top 10 recommendations for user 2093760"
   ]
  },
  {
   "cell_type": "code",
   "execution_count": 22,
   "metadata": {},
   "outputs": [],
   "source": [
    "recommendedProductIDs = map(lambda r: artistByID.get(r.product), model.recommendProducts(2093760, 10))"
   ]
  },
  {
   "cell_type": "code",
   "execution_count": 23,
   "metadata": {},
   "outputs": [
    {
     "name": "stdout",
     "output_type": "stream",
     "text": [
      "top 10 recommendations for user 2093760\n",
      "\n",
      "Jay-Z\n",
      "Snoop Dogg\n",
      "50 Cent\n",
      "Kanye West\n",
      "Nas\n",
      "2Pac\n",
      "Dr. Dre\n",
      "Outkast\n",
      "Ludacris\n",
      "The Roots\n"
     ]
    }
   ],
   "source": [
    "print \"top 10 recommendations for user 2093760\\n\"\n",
    "for recom in recommendedProductIDs:\n",
    "    print recom"
   ]
  }
 ],
 "metadata": {
  "kernelspec": {
   "display_name": "Python 2",
   "language": "python",
   "name": "python2"
  },
  "language_info": {
   "codemirror_mode": {
    "name": "ipython",
    "version": 2
   },
   "file_extension": ".py",
   "mimetype": "text/x-python",
   "name": "python",
   "nbconvert_exporter": "python",
   "pygments_lexer": "ipython2",
   "version": "2.7.15"
  }
 },
 "nbformat": 4,
 "nbformat_minor": 2
}
